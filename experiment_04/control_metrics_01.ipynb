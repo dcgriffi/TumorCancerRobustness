{
 "cells": [
  {
   "cell_type": "markdown",
   "metadata": {},
   "source": [
    "This notebook follows from rotate_no_resize_inference and running the nn-Unet model. It is used to find the Dice and sDice metric results. This script is to calculate the DICE, sDICE, and the Hausdorff distance of two sets of labels. The sets of labels are called (a) original for the manual labels and (b) predicted for the predicted labels\n",
    "Documentation of metrics can be found here: https://github.com/deepmind/surface-distance\n"
   ]
  },
  {
   "cell_type": "code",
   "execution_count": 1,
   "metadata": {},
   "outputs": [],
   "source": [
    "#Necessary imports\n",
    "import os\n",
    "import shutil\n",
    "\n",
    "from ast import Break\n",
    "import os\n",
    "import SimpleITK as sitk\n",
    "import numpy as np\n",
    "\n",
    "import re\n",
    "\n",
    "from absl.testing import absltest\n",
    "from absl.testing import parameterized\n",
    "import surface_distance\n",
    "from surface_distance import metrics\n",
    "\n",
    "import pandas as pd\n",
    "\n"
   ]
  },
  {
   "cell_type": "code",
   "execution_count": 2,
   "metadata": {},
   "outputs": [],
   "source": [
    "#Set all paths\n",
    "\n",
    "nnUnet_res= '/home/chloe/nnUNet_Results/Task603_SettingUp_Res' #Change this to where you store nnUnet results\n",
    "predicted_labels = 'results/control_results/control_predictions'\n",
    "rot_dir = 'results/control_results/control_images'\n",
    "\n",
    "original_label_dir = 'data/labelsTs'\n",
    "transformed_labels = 'results/control_results/control_labels'\n",
    "stored_control_labels = 'results/control_results/stored_control_labels'"
   ]
  },
  {
   "cell_type": "markdown",
   "metadata": {},
   "source": [
    "Only run two below if needed"
   ]
  },
  {
   "cell_type": "markdown",
   "metadata": {},
   "source": [
    "Copy the results to the current working directory"
   ]
  },
  {
   "cell_type": "code",
   "execution_count": 3,
   "metadata": {},
   "outputs": [],
   "source": [
    "#Maybe add to only move image outputs\n",
    "file_names = os.listdir(nnUnet_res)\n",
    "\n",
    "#Make list of strings to create directory: original, control_image, load_save\n",
    "control_names = ['original', 'control', 'load_save']\n",
    "\n",
    "for file_name in file_names:\n",
    "    for name in control_names:\n",
    "        stored_rot_path = os.path.join(predicted_labels,name)\n",
    "        if not os.path.exists(stored_rot_path):\n",
    "            os.makedirs(stored_rot_path)\n",
    "        if name == 'original':\n",
    "            if file_name.endswith(\"pre.nii.gz\"):\n",
    "                shutil.copy(os.path.join(nnUnet_res, file_name), stored_rot_path)\n",
    "        if file_name.endswith(name+\"_image_0.0_0.0_0.0.nii.gz\"):\n",
    "            shutil.copy(os.path.join(nnUnet_res, file_name), stored_rot_path)\n",
    "        \n"
   ]
  },
  {
   "cell_type": "markdown",
   "metadata": {},
   "source": [
    "Move transformed manual labels into folder for computing Dice and sDice metrics"
   ]
  },
  {
   "cell_type": "code",
   "execution_count": 9,
   "metadata": {},
   "outputs": [
    {
     "name": "stdout",
     "output_type": "stream",
     "text": [
      "Files copied\n"
     ]
    }
   ],
   "source": [
    "#Store original, untransformed labels\n",
    "original_labels = os.listdir(original_label_dir)\n",
    "stored_orig_path = os.path.join(stored_control_labels,'original')\n",
    "if not os.path.exists(stored_orig_path):\n",
    "            os.makedirs(stored_orig_path)\n",
    "\n",
    "for label in original_labels:\n",
    "    shutil.copy(os.path.join(original_label_dir, label), stored_orig_path)\n",
    "\n",
    "patient_names = os.listdir(transformed_labels)\n",
    "\n",
    "#Store transformed control labels\n",
    "for patient in patient_names:\n",
    "    patient_path = os.path.join(transformed_labels, patient)\n",
    "    files = os.listdir(patient_path)\n",
    "    for file_name in files:\n",
    "        if file_name.endswith(\"control_label_0.0_0.0_0.0.nii.gz\"):\n",
    "            stored_rot_path = os.path.join(stored_control_labels,'control')\n",
    "            if not os.path.exists(stored_rot_path):\n",
    "                os.makedirs(stored_rot_path)\n",
    "            shutil.copy(os.path.join(patient_path, file_name), stored_rot_path)\n",
    "        if file_name.endswith(\"load_save_label_0.0_0.0_0.0.nii.gz\"):\n",
    "            stored_rot_path = os.path.join(stored_control_labels,'load_save')\n",
    "            if not os.path.exists(stored_rot_path):\n",
    "                os.makedirs(stored_rot_path)\n",
    "            shutil.copy(os.path.join(patient_path, file_name), stored_rot_path)\n",
    "\n",
    "print(\"Files copied\")"
   ]
  },
  {
   "cell_type": "markdown",
   "metadata": {},
   "source": [
    "Give names for predicted labels and rotated manual labels"
   ]
  },
  {
   "cell_type": "code",
   "execution_count": 6,
   "metadata": {},
   "outputs": [],
   "source": [
    "#Loop over all the rotations\n",
    "\n",
    "transform_label_dir = transformed_labels\n",
    "stored_label_folder = stored_control_labels\n",
    "\n",
    "original_label_path = stored_label_folder \n",
    "predicted_label_path = predicted_labels"
   ]
  },
  {
   "cell_type": "markdown",
   "metadata": {},
   "source": [
    "Set initial values and functions"
   ]
  },
  {
   "cell_type": "code",
   "execution_count": 7,
   "metadata": {},
   "outputs": [],
   "source": [
    "def generate_np_array_of_single_structure(np_matrix, number):\n",
    "    single_struct_array = np.where(np_matrix != number, 0, np_matrix)\n",
    "    return single_struct_array.astype('bool')    # sets all 0-entries to False, and all others to True\n",
    "\n",
    "def sorted_alphanumeric(data):\n",
    "    convert = lambda text: int(text) if text.isdigit() else text.lower()\n",
    "    alphanum_key = lambda key: [ convert(c) for c in re.split('([0-9]+)', key) ] \n",
    "    return sorted(data, key=alphanum_key)\n",
    "\n",
    "num_structures = 1 + 1\n",
    "s_dice_tolerance = 2 #mm"
   ]
  },
  {
   "cell_type": "markdown",
   "metadata": {},
   "source": [
    "Iterate over file paths to obtain the metric"
   ]
  },
  {
   "cell_type": "code",
   "execution_count": 10,
   "metadata": {},
   "outputs": [
    {
     "name": "stdout",
     "output_type": "stream",
     "text": [
      "all_numbers:  [0, 1]\n",
      "Predicting HN_P002_pre_0000_control_image_0.0_0.0_0.0.nii.gz\n",
      "Predicting HN_P003_pre_0000_control_image_0.0_0.0_0.0.nii.gz\n",
      "Predicting HN_P005_pre_0000_control_image_0.0_0.0_0.0.nii.gz\n",
      "Predicting HN_P007_pre_0000_control_image_0.0_0.0_0.0.nii.gz\n",
      "Predicting HN_P008_pre_0000_control_image_0.0_0.0_0.0.nii.gz\n",
      "Predicting HN_P009_pre_0000_control_image_0.0_0.0_0.0.nii.gz\n",
      "Predicting HN_P010_pre_0000_control_image_0.0_0.0_0.0.nii.gz\n",
      "Predicting HN_P011_pre_0000_control_image_0.0_0.0_0.0.nii.gz\n",
      "Predicting HN_P014_pre_0000_control_image_0.0_0.0_0.0.nii.gz\n",
      "Predicting HN_P016_pre_0000_control_image_0.0_0.0_0.0.nii.gz\n",
      "Predicting HN_P018_pre_0000_control_image_0.0_0.0_0.0.nii.gz\n",
      "Predicting HN_P020_pre_0000_control_image_0.0_0.0_0.0.nii.gz\n",
      "Predicting HN_P022_pre_0000_control_image_0.0_0.0_0.0.nii.gz\n",
      "Predicting HN_P027_pre_0000_control_image_0.0_0.0_0.0.nii.gz\n",
      "Predicting HN_P033_pre_0000_control_image_0.0_0.0_0.0.nii.gz\n",
      "Predicting HN_P035_pre_0000_control_image_0.0_0.0_0.0.nii.gz\n",
      "Predicting HN_P002_pre_0000_load_save_image_0.0_0.0_0.0.nii.gz\n",
      "Predicting HN_P003_pre_0000_load_save_image_0.0_0.0_0.0.nii.gz\n",
      "Predicting HN_P005_pre_0000_load_save_image_0.0_0.0_0.0.nii.gz\n",
      "Predicting HN_P007_pre_0000_load_save_image_0.0_0.0_0.0.nii.gz\n",
      "Predicting HN_P008_pre_0000_load_save_image_0.0_0.0_0.0.nii.gz\n",
      "Predicting HN_P009_pre_0000_load_save_image_0.0_0.0_0.0.nii.gz\n",
      "Predicting HN_P010_pre_0000_load_save_image_0.0_0.0_0.0.nii.gz\n",
      "Predicting HN_P011_pre_0000_load_save_image_0.0_0.0_0.0.nii.gz\n",
      "Predicting HN_P014_pre_0000_load_save_image_0.0_0.0_0.0.nii.gz\n",
      "Predicting HN_P016_pre_0000_load_save_image_0.0_0.0_0.0.nii.gz\n",
      "Predicting HN_P018_pre_0000_load_save_image_0.0_0.0_0.0.nii.gz\n",
      "Predicting HN_P020_pre_0000_load_save_image_0.0_0.0_0.0.nii.gz\n",
      "Predicting HN_P022_pre_0000_load_save_image_0.0_0.0_0.0.nii.gz\n",
      "Predicting HN_P027_pre_0000_load_save_image_0.0_0.0_0.0.nii.gz\n",
      "Predicting HN_P033_pre_0000_load_save_image_0.0_0.0_0.0.nii.gz\n",
      "Predicting HN_P035_pre_0000_load_save_image_0.0_0.0_0.0.nii.gz\n",
      "Predicting HN_P002_pre.nii.gz\n",
      "Predicting HN_P003_pre.nii.gz\n",
      "Predicting HN_P005_pre.nii.gz\n",
      "Predicting HN_P007_pre.nii.gz\n",
      "Predicting HN_P008_pre.nii.gz\n",
      "Predicting HN_P009_pre.nii.gz\n",
      "Predicting HN_P010_pre.nii.gz\n",
      "Predicting HN_P011_pre.nii.gz\n",
      "Predicting HN_P014_pre.nii.gz\n",
      "Predicting HN_P016_pre.nii.gz\n",
      "Predicting HN_P018_pre.nii.gz\n",
      "Predicting HN_P020_pre.nii.gz\n",
      "Predicting HN_P022_pre.nii.gz\n",
      "Predicting HN_P027_pre.nii.gz\n",
      "Predicting HN_P033_pre.nii.gz\n",
      "Predicting HN_P035_pre.nii.gz\n"
     ]
    }
   ],
   "source": [
    "dice_matrix = np.zeros(num_structures)\n",
    "hd_matrix = np.zeros(num_structures)\n",
    "avg_surface_d_matrix = np.zeros(num_structures)\n",
    "surf_dice_matrix = np.zeros(num_structures)\n",
    "\n",
    "num_patients = 0\n",
    "all_numbers = []\n",
    "for i in range(num_structures):\n",
    "    all_numbers.append(i)\n",
    "print(\"all_numbers: \", all_numbers)\n",
    "\n",
    "rot_list =  sorted_alphanumeric(os.listdir(predicted_label_path))\n",
    "first_file_list = sorted_alphanumeric(os.listdir(os.path.join(original_label_path, rot_list[0])))\n",
    "\n",
    "dice_array = np.zeros(((len(rot_list)), (len(first_file_list)))) #(rows, columns)\n",
    "sdice_array = np.zeros(((len(rot_list)), (len(first_file_list)))) #(rows, columns)\n",
    "\n",
    "rot_count = -1\n",
    "for rot in rot_list:\n",
    "    rot_count = rot_count + 1\n",
    "    rot_pred_path = os.path.join(predicted_label_path, rot)\n",
    "    rot_orig_path = os.path.join(original_label_path, rot)\n",
    "    file_count = -1\n",
    "    for filename in sorted_alphanumeric(os.listdir(rot_pred_path)):\n",
    "        print(\"Predicting\", filename)\n",
    "        file_count = file_count + 1\n",
    "        num_patients += 1\n",
    "        dice_arr = np.zeros(num_structures)\n",
    "        hd_arr = np.zeros(num_structures)\n",
    "        avg_surface_d_arr = np.zeros(num_structures)\n",
    "        surf_dice_arr = np.zeros(num_structures)\n",
    "\n",
    "        # extract the example name\n",
    "        # first split the path by '/' and take the last result to get the file name\n",
    "        # then exclude the last 7 characters to exclude the '.nii.gz'\n",
    "        name = filename.split('/')[-1][:-7]\n",
    "\n",
    "\n",
    "        ############ ORIGINAL ############\n",
    "\n",
    "        # read the label file and save it as nifti with correct naming\n",
    "        orig_name = name.replace(\"0000_\",\"\")\n",
    "        orig_name = orig_name.replace(\"image\",\"label\")\n",
    "        original_data_path = rot_orig_path + \"/\" +  orig_name + \".nii.gz\"\n",
    "        original_img = sitk.ReadImage(original_data_path)  # read the file (file is the path to the label file)\n",
    "        original_arr = sitk.GetArrayFromImage(original_img)\n",
    "\n",
    "        # count amount of pixels with different labels\n",
    "        unique, counts = np.unique(original_arr, return_counts=True)\n",
    "\n",
    "        ############ PREDICTIONS ############\n",
    "\n",
    "        # do the same for the corresponding image file\n",
    "        pred_data_path = rot_pred_path + \"/\" +  name + \".nii.gz\"\n",
    "        pred_img = sitk.ReadImage(pred_data_path)  # exchange the _labels with _predictions in the file name to get the path to the predictions and reads the predictions\n",
    "        pred_arr = sitk.GetArrayFromImage(pred_img)                 \n",
    "\n",
    "        # count amount of pixels with different labels\n",
    "        unique2, counts2 = np.unique(pred_arr, return_counts=True)\n",
    "\n",
    "    #for each structure\n",
    "        for number in range(num_structures):\n",
    "\n",
    "            # no evalutation for background\n",
    "            if(number == 0): continue\n",
    "\n",
    "            if(number in unique2):\n",
    "                #print(\"Analyzing structure: \", number)\n",
    "                original_structure = generate_np_array_of_single_structure(original_arr, number)\n",
    "                predicted_structure = generate_np_array_of_single_structure(pred_arr, number)\n",
    "\n",
    "                # 3rd agument spacing_mm: resp. 3-element list-like structure. Voxel spacing in x0, x1 and x2 directions.\n",
    "                surf_dist = metrics.compute_surface_distances(original_structure, predicted_structure, [3, 1, 1])\n",
    "                dice = metrics.compute_dice_coefficient(original_structure, predicted_structure)\n",
    "\n",
    "                # 2nd argument: percent: a float value between 0 and 100\n",
    "                hd = metrics.compute_robust_hausdorff(surf_dist, 99)\n",
    "                avg_sd = metrics.compute_average_surface_distance(surf_dist)\n",
    "                s_dice = metrics.compute_surface_dice_at_tolerance(surf_dist, s_dice_tolerance)\n",
    "\n",
    "                dice_arr[number] = dice\n",
    "                hd_arr[number] = hd\n",
    "                surf_dice_arr[number] = s_dice\n",
    "\n",
    "            else: \n",
    "                # check if a predicted structure is missing\n",
    "                print(\"missing structure in prediction: \", number)\n",
    "\n",
    "\n",
    "            #Fill in array for each file (each row = rotation, each column = patient )\n",
    "            dice_array[rot_count,file_count] = dice_arr[1]\n",
    "            sdice_array[rot_count,file_count] = surf_dice_arr[1]\n",
    "\n",
    "            dice_matrix = np.vstack((dice_matrix, dice_arr))\n",
    "            hd_matrix = np.vstack((hd_matrix, hd_arr))\n",
    "            #avg_surface_d_matrix = np.vstack(avg_surface_d_matrix, avg_surface_d_arr)\n",
    "            surf_dice_matrix = np.vstack((surf_dice_matrix, surf_dice_arr))  "
   ]
  },
  {
   "cell_type": "code",
   "execution_count": 13,
   "metadata": {},
   "outputs": [
    {
     "name": "stdout",
     "output_type": "stream",
     "text": [
      "['control', 'load_save', 'original']\n",
      "['HN_P002', 'HN_P003', 'HN_P005', 'HN_P007', 'HN_P008', 'HN_P009', 'HN_P010', 'HN_P011', 'HN_P014', 'HN_P016', 'HN_P018', 'HN_P020', 'HN_P022', 'HN_P027', 'HN_P033', 'HN_P035']\n"
     ]
    }
   ],
   "source": [
    "\n",
    "short_rot_list = rot_list\n",
    "print(short_rot_list)\n",
    "\n",
    "short_file_list = [s.replace('_pre_control_label_0.0_0.0_0.0.nii.gz','') for s in first_file_list]\n",
    "print(short_file_list)"
   ]
  },
  {
   "cell_type": "markdown",
   "metadata": {},
   "source": [
    "Visualize Dice and sDice arrays"
   ]
  },
  {
   "cell_type": "code",
   "execution_count": 14,
   "metadata": {},
   "outputs": [
    {
     "name": "stdout",
     "output_type": "stream",
     "text": [
      "Dice:\n",
      "            HN_P002   HN_P003   HN_P005   HN_P007   HN_P008   HN_P009  \\\n",
      "control    0.599598  0.562385  0.597253  0.603365  0.621182  0.525147   \n",
      "load_save  0.629942  0.623750  0.605350  0.637403  0.634484  0.557630   \n",
      "original   0.629937  0.623756  0.605346  0.637399  0.634477  0.557636   \n",
      "\n",
      "            HN_P010   HN_P011   HN_P014   HN_P016   HN_P018   HN_P020  \\\n",
      "control    0.526436  0.492247  0.472439  0.619300  0.655162  0.458895   \n",
      "load_save  0.510477  0.485925  0.484431  0.642878  0.651212  0.480320   \n",
      "original   0.510480  0.485920  0.484451  0.642874  0.651211  0.480320   \n",
      "\n",
      "            HN_P022   HN_P027   HN_P033  HN_P035  \n",
      "control    0.650901  0.680890  0.613977      0.0  \n",
      "load_save  0.667693  0.707771  0.279055      0.0  \n",
      "original   0.667690  0.707769  0.279051      0.0  \n",
      "sDice:\n",
      "            HN_P002   HN_P003   HN_P005   HN_P007   HN_P008   HN_P009  \\\n",
      "control    0.357760  0.381479  0.446572  0.490692  0.477714  0.312167   \n",
      "load_save  0.371999  0.439019  0.487397  0.535320  0.506253  0.333942   \n",
      "original   0.371996  0.438967  0.487386  0.535320  0.506253  0.333944   \n",
      "\n",
      "            HN_P010   HN_P011   HN_P014   HN_P016   HN_P018   HN_P020  \\\n",
      "control    0.423589  0.287101  0.446337  0.281951  0.370271  0.210183   \n",
      "load_save  0.417256  0.315317  0.444309  0.286198  0.398588  0.250769   \n",
      "original   0.417245  0.315311  0.444309  0.286198  0.398574  0.250775   \n",
      "\n",
      "            HN_P022   HN_P027   HN_P033   HN_P035  \n",
      "control    0.427932  0.383239  0.505327  0.007022  \n",
      "load_save  0.436543  0.483662  0.308455  0.000297  \n",
      "original   0.436561  0.483649  0.308443  0.000297  \n"
     ]
    }
   ],
   "source": [
    "print(\"Dice:\")\n",
    "dice_table = pd.DataFrame(dice_array, columns = short_file_list, index=short_rot_list).sort_index()\n",
    "print(dice_table)\n",
    "\n",
    "print(\"sDice:\")\n",
    "sdice_table = pd.DataFrame(sdice_array, columns = short_file_list, index=short_rot_list).sort_index()\n",
    "print(sdice_table)"
   ]
  },
  {
   "cell_type": "code",
   "execution_count": null,
   "metadata": {},
   "outputs": [
    {
     "name": "stdout",
     "output_type": "stream",
     "text": [
      "Dice Absolute Error:\n",
      "        HN_P011   HN_P005   HN_P007   HN_P027   HN_P002   HN_P033   HN_P020  \\\n",
      "-30.0  0.195376  0.109630  0.096604  0.054946  0.669508  0.016616  0.140374   \n",
      "-25.0  0.596606  0.189642  0.006503  0.170259  0.019961  0.031965  0.010014   \n",
      "-20.0  0.050778  0.029392  0.577219  0.045553  0.191644  0.121249  0.012144   \n",
      "-15.0  0.073501  0.024667  0.577219  0.028923  0.069996  0.086419  0.162164   \n",
      "-10.0  0.037244  0.017436  0.577219  0.037237  0.167097  0.045054  0.031655   \n",
      "-5.0   0.045257  0.136202  0.107775  0.037505  0.045509  0.023704  0.028954   \n",
      " 0.0   0.000000  0.000000  0.000000  0.000000  0.000000  0.000000  0.000000   \n",
      " 5.0   0.077948  0.020119  0.577219  0.020180  0.147299  0.137725  0.034012   \n",
      " 10.0  0.596606  0.115897  0.059762  0.019750  0.050728  0.131253  0.016570   \n",
      " 15.0  0.007901  0.019958  0.038499  0.135158  0.009002  0.054306  0.128711   \n",
      " 20.0  0.116467  0.128795  0.577219  0.040609  0.030487  0.003935  0.021972   \n",
      " 25.0  0.596606  0.079758  0.086332  0.026220  0.028786  0.004492  0.004776   \n",
      " 30.0  0.059574  0.121683  0.082403  0.143869  0.010243  0.077697  0.123272   \n",
      "\n",
      "        HN_P022   HN_P010   HN_P014   HN_P016   HN_P035   HN_P008   HN_P018  \\\n",
      "-30.0  0.609593  0.205441  0.017832  0.055019  0.171525  0.011638  0.167556   \n",
      "-25.0  0.659443  0.277378  0.056107  0.154851  0.136571  0.093717  0.042601   \n",
      "-20.0  0.628979  0.282350  0.143485  0.125438  0.049656  0.023835  0.073751   \n",
      "-15.0  0.476940  0.232087  0.116276  0.000193  0.209312  0.017997  0.072505   \n",
      "-10.0  0.468496  0.179181  0.000571  0.188528  0.181390  0.092759  0.153552   \n",
      "-5.0   0.606542  0.076650  0.046777  0.153664  0.194568  0.096485  0.517200   \n",
      " 0.0   0.000000  0.000000  0.000000  0.000000  0.000000  0.000000  0.000000   \n",
      " 5.0   0.601076  0.025714  0.125415  0.125988  0.144452  0.171098  0.006902   \n",
      " 10.0  0.597053  0.091365  0.002840  0.060328  0.195154  0.169323  0.015178   \n",
      " 15.0  0.000000  0.146365  0.052861  0.017099  0.027392  0.045662  0.022495   \n",
      " 20.0  0.633291  0.059591  0.030620  0.028604  0.206506  0.142710  0.069697   \n",
      " 25.0  0.579847  0.017379  0.019481  0.198388  0.006170  0.052152  0.069256   \n",
      " 30.0  0.584652  0.011589  0.002896  0.147482  0.122140  0.148521  0.004208   \n",
      "\n",
      "        HN_P009   HN_P003  \n",
      "-30.0  0.196822  0.010846  \n",
      "-25.0  0.025260  0.003147  \n",
      "-20.0  0.065055  0.053894  \n",
      "-15.0  0.006211  0.074601  \n",
      "-10.0  0.023830  0.169656  \n",
      "-5.0   0.149054  0.005003  \n",
      " 0.0   0.000000  0.000000  \n",
      " 5.0   0.029857  0.129200  \n",
      " 10.0  0.179420  0.030592  \n",
      " 15.0  0.038637  0.034534  \n",
      " 20.0  0.000002  0.127873  \n",
      " 25.0  0.194492  0.158844  \n",
      " 30.0  0.663017  0.186433  \n",
      "sDice Absolute Error:\n",
      "        HN_P011   HN_P005   HN_P007   HN_P027   HN_P002   HN_P033   HN_P020  \\\n",
      "-30.0  0.100967  0.078157  0.031284  0.067855  0.439835  0.062242  0.002618   \n",
      "-25.0  0.455701  0.197112  0.058119  0.239206  0.074537  0.129107  0.060109   \n",
      "-20.0  0.142424  0.191689  0.383044  0.117751  0.208165  0.056069  0.052003   \n",
      "-15.0  0.037101  0.008959  0.381517  0.049688  0.046141  0.034241  0.083537   \n",
      "-10.0  0.171791  0.019123  0.381701  0.097951  0.097223  0.155791  0.130079   \n",
      "-5.0   0.058885  0.271810  0.052471  0.121766  0.078346  0.049693  0.026908   \n",
      " 0.0   0.000000  0.000000  0.000000  0.000000  0.000000  0.000000  0.000000   \n",
      " 5.0   0.016813  0.038678  0.381520  0.269339  0.016185  0.064659  0.033825   \n",
      " 10.0  0.454191  0.031609  0.128890  0.005793  0.188753  0.058913  0.063780   \n",
      " 15.0  0.046576  0.012798  0.076966  0.043210  0.000227  0.042483  0.156581   \n",
      " 20.0  0.041340  0.296761  0.384430  0.089338  0.083647  0.022896  0.058147   \n",
      " 25.0  0.458408  0.205497  0.096358  0.134173  0.076841  0.114796  0.047933   \n",
      " 30.0  0.160592  0.217025  0.014761  0.128164  0.030250  0.088527  0.128404   \n",
      "\n",
      "        HN_P022   HN_P010   HN_P014   HN_P016   HN_P035   HN_P008   HN_P018  \\\n",
      "-30.0  0.446982  0.158041  0.206844  0.155604  0.121245  0.040793  0.016084   \n",
      "-25.0  0.437469  0.025077  0.172063  0.122174  0.243471  0.069191  0.189520   \n",
      "-20.0  0.519258  0.098954  0.047836  0.007853  0.213751  0.052673  0.012964   \n",
      "-15.0  0.225557  0.026894  0.165055  0.124803  0.189901  0.134429  0.108216   \n",
      "-10.0  0.438649  0.029561  0.221372  0.058397  0.164810  0.047796  0.024001   \n",
      "-5.0   0.490993  0.063764  0.137508  0.083531  0.233934  0.051777  0.418156   \n",
      " 0.0   0.000000  0.000000  0.000000  0.000000  0.000000  0.000000  0.000000   \n",
      " 5.0   0.473146  0.001813  0.199114  0.080330  0.289019  0.176567  0.061331   \n",
      " 10.0  0.476768  0.035883  0.243195  0.130030  0.218625  0.182487  0.075466   \n",
      " 15.0  0.001248  0.042858  0.133226  0.260384  0.119534  0.107033  0.080809   \n",
      " 20.0  0.256734  0.106029  0.101694  0.117956  0.196741  0.061330  0.061795   \n",
      " 25.0  0.329838  0.018870  0.012600  0.021407  0.013203  0.117709  0.053280   \n",
      " 30.0  0.498186  0.000366  0.238614  0.060479  0.120345  0.167024  0.141119   \n",
      "\n",
      "        HN_P009   HN_P003  \n",
      "-30.0  0.120365  0.006925  \n",
      "-25.0  0.014092  0.010488  \n",
      "-20.0  0.095031  0.078843  \n",
      "-15.0  0.010600  0.186347  \n",
      "-10.0  0.123074  0.188758  \n",
      "-5.0   0.032759  0.242942  \n",
      " 0.0   0.000000  0.000000  \n",
      " 5.0   0.119179  0.163116  \n",
      " 10.0  0.049033  0.123999  \n",
      " 15.0  0.139782  0.127728  \n",
      " 20.0  0.000856  0.042316  \n",
      " 25.0  0.064504  0.191772  \n",
      " 30.0  0.389788  0.089779  \n"
     ]
    }
   ],
   "source": [
    "#Get errors in the table\n",
    "err_dice_array = dice_array - dice_array[0,:]\n",
    "\n",
    "err_sdice_array = sdice_array - sdice_array[0,:]\n",
    "\n",
    "print(\"Dice Absolute Error:\")\n",
    "abs_err_dice_table = pd.DataFrame(err_dice_array, columns = short_file_list, index=short_rot_list).sort_index().abs()\n",
    "print(abs_err_dice_table)\n",
    "\n",
    "print(\"sDice Absolute Error:\")\n",
    "abs_err_sdice_table = pd.DataFrame(err_sdice_array, columns = short_file_list, index=short_rot_list).sort_index().abs()\n",
    "print(abs_err_sdice_table)"
   ]
  },
  {
   "cell_type": "code",
   "execution_count": null,
   "metadata": {},
   "outputs": [
    {
     "name": "stdout",
     "output_type": "stream",
     "text": [
      "Mean Absolute Dice Error:\n",
      "-30.0    0.170583\n",
      "-25.0    0.154627\n",
      "-20.0    0.154651\n",
      "-15.0    0.139313\n",
      "-10.0    0.148182\n",
      "-5.0     0.141928\n",
      " 0.0     0.000000\n",
      " 5.0     0.148388\n",
      " 10.0    0.145739\n",
      " 15.0    0.048661\n",
      " 20.0    0.138649\n",
      " 25.0    0.132686\n",
      " 30.0    0.155605\n",
      "dtype: float64\n",
      "Mean Absolute sDice Error:\n",
      "-30.0    0.128490\n",
      "-25.0    0.156090\n",
      "-20.0    0.142394\n",
      "-15.0    0.113312\n",
      "-10.0    0.146880\n",
      "-5.0     0.150953\n",
      " 0.0     0.000000\n",
      " 5.0     0.149040\n",
      " 10.0    0.154213\n",
      " 15.0    0.086965\n",
      " 20.0    0.120126\n",
      " 25.0    0.122324\n",
      " 30.0    0.154589\n",
      "dtype: float64\n"
     ]
    }
   ],
   "source": [
    "#Get mean absolute value table\n",
    "print(\"Mean Absolute Dice Error:\")\n",
    "MAE_dice_table = abs_err_dice_table.mean(axis = 1)\n",
    "print(MAE_dice_table)\n",
    "\n",
    "print(\"Mean Absolute sDice Error:\")\n",
    "MAE_sdice_table = abs_err_sdice_table.mean(axis = 1)\n",
    "print(MAE_sdice_table)\n"
   ]
  },
  {
   "cell_type": "code",
   "execution_count": null,
   "metadata": {},
   "outputs": [
    {
     "data": {
      "text/plain": [
       "<Axes: >"
      ]
     },
     "execution_count": 50,
     "metadata": {},
     "output_type": "execute_result"
    },
    {
     "data": {
      "image/png": "[encoded data removed]",
      "text/plain": [
       "<Figure size 640x480 with 1 Axes>"
      ]
     },
     "metadata": {},
     "output_type": "display_data"
    }
   ],
   "source": [
    "MAE_dice_table.plot()"
   ]
  },
  {
   "cell_type": "code",
   "execution_count": null,
   "metadata": {},
   "outputs": [
    {
     "data": {
      "text/plain": [
       "<Axes: >"
      ]
     },
     "execution_count": 51,
     "metadata": {},
     "output_type": "execute_result"
    },
    {
     "data": {
      "image/png": "[encoded data removed]",
      "text/plain": [
       "<Figure size 640x480 with 1 Axes>"
      ]
     },
     "metadata": {},
     "output_type": "display_data"
    }
   ],
   "source": [
    "MAE_sdice_table.plot()"
   ]
  },
  {
   "cell_type": "code",
   "execution_count": null,
   "metadata": {},
   "outputs": [
    {
     "data": {
      "image/png": "[encoded data removed]",
      "text/plain": [
       "<Figure size 640x480 with 1 Axes>"
      ]
     },
     "metadata": {},
     "output_type": "display_data"
    }
   ],
   "source": [
    "boxplot = abs_err_dice_table.T.boxplot()  "
   ]
  },
  {
   "cell_type": "code",
   "execution_count": null,
   "metadata": {},
   "outputs": [
    {
     "data": {
      "image/png": "[encoded data removed]",
      "text/plain": [
       "<Figure size 640x480 with 1 Axes>"
      ]
     },
     "metadata": {},
     "output_type": "display_data"
    }
   ],
   "source": [
    "boxplot = abs_err_sdice_table.T.boxplot()  "
   ]
  }
 ],
 "metadata": {
  "kernelspec": {
   "display_name": "torch",
   "language": "python",
   "name": "python3"
  },
  "language_info": {
   "codemirror_mode": {
    "name": "ipython",
    "version": 3
   },
   "file_extension": ".py",
   "mimetype": "text/x-python",
   "name": "python",
   "nbconvert_exporter": "python",
   "pygments_lexer": "ipython3",
   "version": "3.11.3"
  },
  "orig_nbformat": 4
 },
 "nbformat": 4,
 "nbformat_minor": 2
}
